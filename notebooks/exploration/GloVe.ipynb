{
 "cells": [
  {
   "cell_type": "code",
   "execution_count": null,
   "id": "062496a9",
   "metadata": {},
   "outputs": [],
   "source": [
    "import pandas as pd\n",
    "import numpy as np\n",
    "import re"
   ]
  },
  {
   "cell_type": "code",
   "execution_count": null,
   "id": "34a151a6",
   "metadata": {},
   "outputs": [],
   "source": [
    "# prepare corpus for GloVe\n",
    "df = pd.read_csv('../../data/final/futurice_blog_data.csv', sep='\\t', engine='python')\n",
    "df['group'] = 0\n",
    "text_df = df[['text', 'group']]\n",
    "print(text_df.shape)\n",
    "\n",
    "# join all blogs as a single document separated by '\\n\n",
    "text_df = text_df.groupby(['group'])['text'].apply(lambda x: '\\n'.join(x)).reset_index()\n",
    "\n",
    "#checks that the number of '\\n' characters is exactly 804\n",
    "print(text_df['text'].iloc[0].count('\\n'))"
   ]
  },
  {
   "cell_type": "code",
   "execution_count": null,
   "id": "00e00033",
   "metadata": {},
   "outputs": [],
   "source": [
    "tfile = open('../../data/interim/blog_corpus.txt', 'a')\n",
    "tfile.write(text_df['text'].iloc[0])\n",
    "tfile.close()"
   ]
  }
 ],
 "metadata": {
  "kernelspec": {
   "display_name": "Python 3",
   "language": "python",
   "name": "python3"
  },
  "language_info": {
   "codemirror_mode": {
    "name": "ipython",
    "version": 3
   },
   "file_extension": ".py",
   "mimetype": "text/x-python",
   "name": "python",
   "nbconvert_exporter": "python",
   "pygments_lexer": "ipython3",
   "version": "3.10.2 (v3.10.2:a58ebcc701, Jan 13 2022, 14:50:16) [Clang 13.0.0 (clang-1300.0.29.30)]"
  },
  "vscode": {
   "interpreter": {
    "hash": "aee8b7b246df8f9039afb4144a1f6fd8d2ca17a180786b69acc140d282b71a49"
   }
  }
 },
 "nbformat": 4,
 "nbformat_minor": 5
}
