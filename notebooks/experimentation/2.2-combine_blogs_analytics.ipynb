{
 "cells": [
  {
   "cell_type": "code",
   "execution_count": 15,
   "metadata": {},
   "outputs": [],
   "source": [
    "import numpy as np\n",
    "import pandas as pd\n",
    "from datetime import datetime"
   ]
  },
  {
   "cell_type": "code",
   "execution_count": 16,
   "metadata": {},
   "outputs": [
    {
     "name": "stdout",
     "output_type": "stream",
     "text": [
      "<class 'pandas.core.frame.DataFrame'>\n",
      "Int64Index: 785 entries, 0 to 784\n",
      "Data columns (total 15 columns):\n",
      " #   Column            Non-Null Count  Dtype  \n",
      "---  ------            --------------  -----  \n",
      " 0   Unnamed: 0        785 non-null    int64  \n",
      " 1   url               785 non-null    object \n",
      " 2   title             785 non-null    object \n",
      " 3   time              785 non-null    object \n",
      " 4   category          785 non-null    object \n",
      " 5   description       778 non-null    object \n",
      " 6   text              785 non-null    object \n",
      " 7   introduction      785 non-null    object \n",
      " 8   author            785 non-null    object \n",
      " 9   author_job_title  785 non-null    object \n",
      " 10  pageviews         785 non-null    int64  \n",
      " 11  unique_pageviews  785 non-null    int64  \n",
      " 12  avg_time          785 non-null    float64\n",
      " 13  bounce_rate       785 non-null    float64\n",
      " 14  exit%             785 non-null    float64\n",
      "dtypes: float64(3), int64(3), object(9)\n",
      "memory usage: 98.1+ KB\n"
     ]
    }
   ],
   "source": [
    "# Read blog data and analytics data\n",
    "blogs = pd.read_csv('../data/blog_text.csv', \n",
    "    sep=',', \n",
    "    engine='python', \n",
    "    parse_dates=['time'], \n",
    "    date_parser=lambda col: pd.to_datetime(col, utc=True)\n",
    ")\n",
    "analytics = pd.read_csv('../data/google_analytics.csv')\n",
    "\n",
    "# Clean up category titles\n",
    "blogs['category'] = blogs['category'].str.replace('&amp;', 'and')\n",
    "\n",
    "# Convert time strings to datetime format\n",
    "blogs['time'] = blogs['time'].dt.date\n",
    "\n",
    "blogs['url'] = 'blog' + blogs['url'].str.split('blog', expand=True)[1].str.rstrip('/')\n",
    "\n",
    "# Combine the two tables\n",
    "combined = pd.merge(blogs, analytics, how='inner', on='url')\n",
    "\n",
    "# Drop entires that do not have urls OR pageviews\n",
    "combined = combined.dropna(subset=['url', 'pageviews'])\n",
    "\n",
    "# Infer titles from urls for entries that are missing a title\n",
    "#   1. Select entries that do not have a title\n",
    "#   2. For each selected entry take the URL\n",
    "#   3. Drop the first 5 character ('blog/')\n",
    "#   4. Replace dashes ('-') with whitespaces\n",
    "#   5. Use the altered URL as a new title for the entry\n",
    "mask = combined['title'].isna()\n",
    "combined.loc[mask, 'title'] = combined['url'][mask].str[5:].str.replace('-', ' ').str.capitalize()\n",
    "\n",
    "# Test\n",
    "combined.info()\n"
   ]
  },
  {
   "cell_type": "code",
   "execution_count": 17,
   "metadata": {},
   "outputs": [
    {
     "data": {
      "text/html": [
       "<div>\n",
       "<style scoped>\n",
       "    .dataframe tbody tr th:only-of-type {\n",
       "        vertical-align: middle;\n",
       "    }\n",
       "\n",
       "    .dataframe tbody tr th {\n",
       "        vertical-align: top;\n",
       "    }\n",
       "\n",
       "    .dataframe thead th {\n",
       "        text-align: right;\n",
       "    }\n",
       "</style>\n",
       "<table border=\"1\" class=\"dataframe\">\n",
       "  <thead>\n",
       "    <tr style=\"text-align: right;\">\n",
       "      <th></th>\n",
       "      <th>Unnamed: 0</th>\n",
       "      <th>url</th>\n",
       "      <th>title</th>\n",
       "      <th>time</th>\n",
       "      <th>category</th>\n",
       "      <th>description</th>\n",
       "      <th>text</th>\n",
       "      <th>introduction</th>\n",
       "      <th>author</th>\n",
       "      <th>author_job_title</th>\n",
       "      <th>pageviews</th>\n",
       "      <th>unique_pageviews</th>\n",
       "      <th>avg_time</th>\n",
       "      <th>bounce_rate</th>\n",
       "      <th>exit%</th>\n",
       "    </tr>\n",
       "  </thead>\n",
       "  <tbody>\n",
       "  </tbody>\n",
       "</table>\n",
       "</div>"
      ],
      "text/plain": [
       "Empty DataFrame\n",
       "Columns: [Unnamed: 0, url, title, time, category, description, text, introduction, author, author_job_title, pageviews, unique_pageviews, avg_time, bounce_rate, exit%]\n",
       "Index: []"
      ]
     },
     "execution_count": 17,
     "metadata": {},
     "output_type": "execute_result"
    }
   ],
   "source": [
    "# Exploration of causes of NA values\n",
    "\n",
    "# First, let's take a look at rows with no text data\n",
    "combined[combined['text'].isna()]"
   ]
  },
  {
   "cell_type": "markdown",
   "metadata": {},
   "source": [
    "Each of these URLs redirect to another page, so we can safely drop them without losing any valuable data. "
   ]
  },
  {
   "cell_type": "code",
   "execution_count": 18,
   "metadata": {},
   "outputs": [
    {
     "name": "stdout",
     "output_type": "stream",
     "text": [
      "<class 'pandas.core.frame.DataFrame'>\n",
      "RangeIndex: 785 entries, 0 to 784\n",
      "Data columns (total 16 columns):\n",
      " #   Column            Non-Null Count  Dtype  \n",
      "---  ------            --------------  -----  \n",
      " 0   index             785 non-null    int64  \n",
      " 1   Unnamed: 0        785 non-null    int64  \n",
      " 2   url               785 non-null    object \n",
      " 3   title             785 non-null    object \n",
      " 4   time              785 non-null    object \n",
      " 5   category          785 non-null    object \n",
      " 6   description       778 non-null    object \n",
      " 7   text              785 non-null    object \n",
      " 8   introduction      785 non-null    object \n",
      " 9   author            785 non-null    object \n",
      " 10  author_job_title  785 non-null    object \n",
      " 11  pageviews         785 non-null    int64  \n",
      " 12  unique_pageviews  785 non-null    int64  \n",
      " 13  avg_time          785 non-null    float64\n",
      " 14  bounce_rate       785 non-null    float64\n",
      " 15  exit%             785 non-null    float64\n",
      "dtypes: float64(3), int64(4), object(9)\n",
      "memory usage: 98.2+ KB\n"
     ]
    }
   ],
   "source": [
    "combined.dropna(axis=0, subset=['text'], inplace=True)\n",
    "combined.reset_index(inplace=True)\n",
    "combined.info()"
   ]
  },
  {
   "cell_type": "code",
   "execution_count": 19,
   "metadata": {},
   "outputs": [
    {
     "data": {
      "text/html": [
       "<div>\n",
       "<style scoped>\n",
       "    .dataframe tbody tr th:only-of-type {\n",
       "        vertical-align: middle;\n",
       "    }\n",
       "\n",
       "    .dataframe tbody tr th {\n",
       "        vertical-align: top;\n",
       "    }\n",
       "\n",
       "    .dataframe thead th {\n",
       "        text-align: right;\n",
       "    }\n",
       "</style>\n",
       "<table border=\"1\" class=\"dataframe\">\n",
       "  <thead>\n",
       "    <tr style=\"text-align: right;\">\n",
       "      <th></th>\n",
       "      <th>index</th>\n",
       "      <th>Unnamed: 0</th>\n",
       "      <th>url</th>\n",
       "      <th>title</th>\n",
       "      <th>time</th>\n",
       "      <th>category</th>\n",
       "      <th>description</th>\n",
       "      <th>text</th>\n",
       "      <th>introduction</th>\n",
       "      <th>author</th>\n",
       "      <th>author_job_title</th>\n",
       "      <th>pageviews</th>\n",
       "      <th>unique_pageviews</th>\n",
       "      <th>avg_time</th>\n",
       "      <th>bounce_rate</th>\n",
       "      <th>exit%</th>\n",
       "    </tr>\n",
       "  </thead>\n",
       "  <tbody>\n",
       "  </tbody>\n",
       "</table>\n",
       "</div>"
      ],
      "text/plain": [
       "Empty DataFrame\n",
       "Columns: [index, Unnamed: 0, url, title, time, category, description, text, introduction, author, author_job_title, pageviews, unique_pageviews, avg_time, bounce_rate, exit%]\n",
       "Index: []"
      ]
     },
     "execution_count": 19,
     "metadata": {},
     "output_type": "execute_result"
    }
   ],
   "source": [
    "# Next, let's look at rows with no category\n",
    "\n",
    "combined[combined['category'].isna()]"
   ]
  },
  {
   "cell_type": "markdown",
   "metadata": {},
   "source": [
    "Some of these articles once again redirect to different pages, but others seem like just normal blog posts. Perhaps the categories for those can be scraped when we move fully to BeautifulSoup."
   ]
  },
  {
   "cell_type": "code",
   "execution_count": 20,
   "metadata": {},
   "outputs": [
    {
     "data": {
      "text/html": [
       "<div>\n",
       "<style scoped>\n",
       "    .dataframe tbody tr th:only-of-type {\n",
       "        vertical-align: middle;\n",
       "    }\n",
       "\n",
       "    .dataframe tbody tr th {\n",
       "        vertical-align: top;\n",
       "    }\n",
       "\n",
       "    .dataframe thead tr th {\n",
       "        text-align: left;\n",
       "    }\n",
       "</style>\n",
       "<table border=\"1\" class=\"dataframe\">\n",
       "  <thead>\n",
       "    <tr>\n",
       "      <th></th>\n",
       "      <th colspan=\"2\" halign=\"left\">time</th>\n",
       "      <th colspan=\"2\" halign=\"left\">avg_time</th>\n",
       "    </tr>\n",
       "    <tr>\n",
       "      <th></th>\n",
       "      <th>self</th>\n",
       "      <th>other</th>\n",
       "      <th>self</th>\n",
       "      <th>other</th>\n",
       "    </tr>\n",
       "  </thead>\n",
       "  <tbody>\n",
       "    <tr>\n",
       "      <th>0</th>\n",
       "      <td>2022-09-16</td>\n",
       "      <td>2022-09-16</td>\n",
       "      <td>NaN</td>\n",
       "      <td>NaN</td>\n",
       "    </tr>\n",
       "    <tr>\n",
       "      <th>1</th>\n",
       "      <td>2022-09-13</td>\n",
       "      <td>2022-09-13</td>\n",
       "      <td>NaN</td>\n",
       "      <td>NaN</td>\n",
       "    </tr>\n",
       "    <tr>\n",
       "      <th>2</th>\n",
       "      <td>2022-09-12</td>\n",
       "      <td>2022-09-12</td>\n",
       "      <td>NaN</td>\n",
       "      <td>NaN</td>\n",
       "    </tr>\n",
       "    <tr>\n",
       "      <th>3</th>\n",
       "      <td>2022-09-01</td>\n",
       "      <td>2022-09-01</td>\n",
       "      <td>NaN</td>\n",
       "      <td>NaN</td>\n",
       "    </tr>\n",
       "    <tr>\n",
       "      <th>4</th>\n",
       "      <td>2022-08-26</td>\n",
       "      <td>2022-08-26</td>\n",
       "      <td>NaN</td>\n",
       "      <td>NaN</td>\n",
       "    </tr>\n",
       "    <tr>\n",
       "      <th>...</th>\n",
       "      <td>...</td>\n",
       "      <td>...</td>\n",
       "      <td>...</td>\n",
       "      <td>...</td>\n",
       "    </tr>\n",
       "    <tr>\n",
       "      <th>780</th>\n",
       "      <td>2010-05-10</td>\n",
       "      <td>2010-05-10</td>\n",
       "      <td>NaN</td>\n",
       "      <td>NaN</td>\n",
       "    </tr>\n",
       "    <tr>\n",
       "      <th>781</th>\n",
       "      <td>2010-03-19</td>\n",
       "      <td>2010-03-19</td>\n",
       "      <td>NaN</td>\n",
       "      <td>NaN</td>\n",
       "    </tr>\n",
       "    <tr>\n",
       "      <th>782</th>\n",
       "      <td>2010-03-12</td>\n",
       "      <td>2010-03-12</td>\n",
       "      <td>NaN</td>\n",
       "      <td>NaN</td>\n",
       "    </tr>\n",
       "    <tr>\n",
       "      <th>783</th>\n",
       "      <td>2010-02-26</td>\n",
       "      <td>2010-02-26</td>\n",
       "      <td>NaN</td>\n",
       "      <td>NaN</td>\n",
       "    </tr>\n",
       "    <tr>\n",
       "      <th>784</th>\n",
       "      <td>2010-02-11</td>\n",
       "      <td>2010-02-11</td>\n",
       "      <td>NaN</td>\n",
       "      <td>NaN</td>\n",
       "    </tr>\n",
       "  </tbody>\n",
       "</table>\n",
       "<p>785 rows × 4 columns</p>\n",
       "</div>"
      ],
      "text/plain": [
       "           time             avg_time      \n",
       "           self       other     self other\n",
       "0    2022-09-16  2022-09-16      NaN   NaN\n",
       "1    2022-09-13  2022-09-13      NaN   NaN\n",
       "2    2022-09-12  2022-09-12      NaN   NaN\n",
       "3    2022-09-01  2022-09-01      NaN   NaN\n",
       "4    2022-08-26  2022-08-26      NaN   NaN\n",
       "..          ...         ...      ...   ...\n",
       "780  2010-05-10  2010-05-10      NaN   NaN\n",
       "781  2010-03-19  2010-03-19      NaN   NaN\n",
       "782  2010-03-12  2010-03-12      NaN   NaN\n",
       "783  2010-02-26  2010-02-26      NaN   NaN\n",
       "784  2010-02-11  2010-02-11      NaN   NaN\n",
       "\n",
       "[785 rows x 4 columns]"
      ]
     },
     "execution_count": 20,
     "metadata": {},
     "output_type": "execute_result"
    }
   ],
   "source": [
    "# Write the resulting merged table to file\n",
    "mask = combined['text'].str.contains(\"\\t\")\n",
    "combined.to_csv(\"../data/blogs_with_analytics.csv\", sep='\\t', index=False)\n",
    "\n",
    "# Test\n",
    "new_combined = pd.read_csv(\"../data/blogs_with_analytics.csv\", sep='\\t')\n",
    "combined.compare(new_combined)\n"
   ]
  }
 ],
 "metadata": {
  "kernelspec": {
   "display_name": "Python 3.10.2 64-bit",
   "language": "python",
   "name": "python3"
  },
  "language_info": {
   "codemirror_mode": {
    "name": "ipython",
    "version": 3
   },
   "file_extension": ".py",
   "mimetype": "text/x-python",
   "name": "python",
   "nbconvert_exporter": "python",
   "pygments_lexer": "ipython3",
   "version": "3.10.2"
  },
  "orig_nbformat": 4,
  "vscode": {
   "interpreter": {
    "hash": "aee8b7b246df8f9039afb4144a1f6fd8d2ca17a180786b69acc140d282b71a49"
   }
  }
 },
 "nbformat": 4,
 "nbformat_minor": 2
}
