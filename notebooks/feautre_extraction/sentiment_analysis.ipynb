{
 "cells": [
  {
   "cell_type": "code",
   "execution_count": null,
   "metadata": {},
   "outputs": [],
   "source": [
    "import nltk\n",
    "nltk.download([\"vader_lexicon\"])\n",
    "from nltk.sentiment import SentimentIntensityAnalyzer"
   ]
  },
  {
   "cell_type": "code",
   "execution_count": null,
   "metadata": {},
   "outputs": [],
   "source": [
    "# TODO: for final version include this cell (and the imports) to the scripts\n",
    "\n",
    "sia = SentimentIntensityAnalyzer()\n",
    "\n",
    "def get_semantic_scores(text):\n",
    "    return sia.polarity_scores(text)\n",
    "\n",
    "\n",
    "# Function that adds semantic scores to one specified index (index) in data frame (df) to columns (column_names = [neg, neu, pos, compound])\n",
    "def input_semantic_scores_to_df(df, index, column_names):\n",
    "    scores = get_semantic_scores(df.iloc[index][\"text\"])\n",
    "    semantic_labels = [\"neg\", \"neu\", \"pos\", \"compound\"]\n",
    "\n",
    "    for i in range(len(scores)):\n",
    "        df.at[index, column_names[i]] = scores[semantic_labels[i]]\n",
    "\n",
    "\n"
   ]
  },
  {
   "cell_type": "code",
   "execution_count": null,
   "metadata": {},
   "outputs": [],
   "source": [
    "import pandas as pd\n",
    "import numpy as np\n",
    "import matplotlib.pyplot as plt"
   ]
  },
  {
   "cell_type": "code",
   "execution_count": null,
   "metadata": {},
   "outputs": [],
   "source": [
    "# Visual debuggin\n",
    "df = pd.read_csv('../data/blogs_with_analytics.csv', delimiter='\\t')\n",
    "\n",
    "df[\"semantic neg score\"] = -1.0\n",
    "df[\"semantic neu score\"] = -1.0\n",
    "df[\"semantic pos score\"] = -1.0\n",
    "df[\"semantic compound score\"] = 0.0\n",
    "df.info()\n"
   ]
  },
  {
   "cell_type": "code",
   "execution_count": null,
   "metadata": {},
   "outputs": [],
   "source": [
    "# Counts scores for all the blogposts\n",
    "for index in range(len(df)):\n",
    "    if (index%10 == 0):\n",
    "        print(index)\n",
    "    input_semantic_scores_to_df(df, index, [\"semantic neg score\", \"semantic neu score\", \"semantic pos score\", \"semantic compound score\"])"
   ]
  },
  {
   "cell_type": "code",
   "execution_count": null,
   "metadata": {},
   "outputs": [],
   "source": [
    "# Update the file\n",
    "df.to_csv(\"../data/blogs_with_analytics.csv\", sep='\\t', index=False)"
   ]
  },
  {
   "cell_type": "markdown",
   "metadata": {},
   "source": [
    "Rest of this file is just seeing the data visually (-> remove for final version)"
   ]
  },
  {
   "cell_type": "code",
   "execution_count": null,
   "metadata": {},
   "outputs": [],
   "source": [
    "df[[\"semantic neg score\", \"semantic neu score\", \"semantic pos score\", \"semantic compound score\"]].describe()"
   ]
  },
  {
   "cell_type": "code",
   "execution_count": null,
   "metadata": {},
   "outputs": [],
   "source": [
    "df[[\"semantic neg score\", \"semantic neu score\", \"semantic pos score\", \"semantic compound score\"]].plot()"
   ]
  },
  {
   "cell_type": "code",
   "execution_count": null,
   "metadata": {},
   "outputs": [],
   "source": [
    "plt.scatter(df[\"semantic neu score\"], df[\"avg_time\"])"
   ]
  },
  {
   "cell_type": "code",
   "execution_count": null,
   "metadata": {},
   "outputs": [],
   "source": [
    "df[df[\"semantic compound score\"] < 0].describe()"
   ]
  },
  {
   "cell_type": "code",
   "execution_count": null,
   "metadata": {},
   "outputs": [],
   "source": [
    "df[df[\"semantic compound score\"] < 0.5].iloc[:][\"url\"]"
   ]
  }
 ],
 "metadata": {
  "kernelspec": {
   "display_name": "Python 3",
   "language": "python",
   "name": "python3"
  },
  "language_info": {
   "codemirror_mode": {
    "name": "ipython",
    "version": 3
   },
   "file_extension": ".py",
   "mimetype": "text/x-python",
   "name": "python",
   "nbconvert_exporter": "python",
   "pygments_lexer": "ipython3",
   "version": "3.10.2"
  },
  "orig_nbformat": 4,
  "vscode": {
   "interpreter": {
    "hash": "aee8b7b246df8f9039afb4144a1f6fd8d2ca17a180786b69acc140d282b71a49"
   }
  }
 },
 "nbformat": 4,
 "nbformat_minor": 2
}
